{
 "cells": [
  {
   "cell_type": "markdown",
   "metadata": {},
   "source": [
    "<p style=\"direction:rtl; font-size:30px; text-align:center; font-weight: bold;\" >\n",
    "تحليل استكشافي لاستخدام الوجوه التعبيرية في المجتمع السعودي (عبر موقع تويتر)"
   ]
  },
  {
   "cell_type": "markdown",
   "metadata": {},
   "source": [
    "<p style=\"direction:rtl; font-size:20px; text-align:center; font-style: italic\" > \n",
    "بقلم : فهد الحازمي (<a href=\"https://twitter.com/fahd09\">Twitter</a> | <a href=\"https://github.com/fahd09\">Github</a>)\n"
   ]
  },
  {
   "cell_type": "markdown",
   "metadata": {},
   "source": [
    "<p style=\"direction:rtl; text-align:right\"> \n",
    "شكل الانتشار العالمي للوجوه التعبيرية - التي تعرف بالايموجي- بداية ثورة جديدة في فضاء اللغة الالكترونية، حيث أصبحت وسيلة لغوية وتواصلية لا غنى عنها خصوصاً لدى الأجيال الشابة.\n",
    "\n",
    "في هذا التحليل نحاول أن نلتمس أبعاد هذ التغير في أحد أشهر مواقع التواصل الالكتروني، تويتر. حيث سنقوم بقراءة عدد ضخم من التغريدات ومن كافة مناطق المملكة العربية السعودية ومن ثم البحث عن الوجوه التعبيرية وتحليل ما يمكن أن تعكسه من متغيرات اجتماعية.\n",
    "\n",
    "<br>\n",
    "<br>\n",
    "\n",
    "سنقوم أولاً باستيراد المكتبات اللازمة في بايثون وتثبيت بعض المتغيرات..\n",
    "\n",
    "</p>"
   ]
  },
  {
   "cell_type": "code",
   "execution_count": 1,
   "metadata": {
    "collapsed": false
   },
   "outputs": [],
   "source": [
    "import re\n",
    "import numpy as np\n",
    "import pandas as pd\n",
    "\n",
    "# Visualization\n",
    "import matplotlib.pyplot as plt\n",
    "import seaborn as sns\n",
    "\n",
    "plt.style.use('seaborn')\n",
    "%matplotlib inline\n",
    "\n",
    "\n",
    "from sklearn.feature_extraction.text import CountVectorizer\n",
    "import nltk"
   ]
  },
  {
   "cell_type": "markdown",
   "metadata": {},
   "source": [
    "<p style=\"direction:rtl; text-align:right\">\n",
    "\n",
    "جمعت التغريدات كالتالي. أولاً، جهزت قائمة بأسماء بعض المدن مع خطوط الطول وخطوط العرض. تم استخدمت الواجهة البرمجية لموقع تويتر (Twitter Search API) مدعوماً بمكتبة (Tweepy) في بايثون لقراءة آلاف التغريدات التي تحتوي على أي وجه تعبيري ضمن قائمة 74 وجه تعبيري شائع. ثم حفظت نتائج البحث في جدول مستقل يحتوي على المدينة، تاريخ التغريدة، نص التغريدة وأخيراً مصدر التغريدة (البرنامج المستخدم لكتابتها). بالطبع، لا غنى عن مكتبة pandas في التعامل مع الجداول.\n",
    "\n",
    "<br /> <br />\n",
    "يلي استيراد قاعدة البيانات طباعة رأس الجدول لنتأكد من سلامة البيانات..\n",
    "\n",
    "</p>\n"
   ]
  },
  {
   "cell_type": "code",
   "execution_count": 2,
   "metadata": {
    "collapsed": false,
    "scrolled": true
   },
   "outputs": [],
   "source": [
    "tweets = pd.read_csv('./data/tweets_emojis_dataset_74emojis.csv', encoding='utf-8')"
   ]
  },
  {
   "cell_type": "code",
   "execution_count": 3,
   "metadata": {
    "collapsed": false
   },
   "outputs": [
    {
     "data": {
      "text/plain": [
       "(140656, 4)"
      ]
     },
     "execution_count": 3,
     "metadata": {},
     "output_type": "execute_result"
    }
   ],
   "source": [
    "tweets.shape"
   ]
  },
  {
   "cell_type": "code",
   "execution_count": 4,
   "metadata": {
    "collapsed": false
   },
   "outputs": [
    {
     "data": {
      "text/html": [
       "<div>\n",
       "<table border=\"1\" class=\"dataframe\">\n",
       "  <thead>\n",
       "    <tr style=\"text-align: right;\">\n",
       "      <th></th>\n",
       "      <th>city</th>\n",
       "      <th>created_at</th>\n",
       "      <th>text</th>\n",
       "      <th>source</th>\n",
       "    </tr>\n",
       "  </thead>\n",
       "  <tbody>\n",
       "    <tr>\n",
       "      <th>0</th>\n",
       "      <td>Riyadh</td>\n",
       "      <td>Wed Jul 12 18:47:24 +0000 2017</td>\n",
       "      <td>#امسيه_منيف_الخمشي\\n\\nيكفي انها كلمات مؤثرة تت...</td>\n",
       "      <td>Twitter Web Client</td>\n",
       "    </tr>\n",
       "    <tr>\n",
       "      <th>1</th>\n",
       "      <td>Riyadh</td>\n",
       "      <td>Wed Jul 12 18:46:49 +0000 2017</td>\n",
       "      <td>وإن أحبُّوك ألفاً فلن يحبُّوك إلا قِطرة من بحري❤️</td>\n",
       "      <td>Twitter for iPhone</td>\n",
       "    </tr>\n",
       "    <tr>\n",
       "      <th>2</th>\n",
       "      <td>Riyadh</td>\n",
       "      <td>Wed Jul 12 18:46:49 +0000 2017</td>\n",
       "      <td>البيت الاخير يختصر كل المعاناة ❤️❤️😢 https://t...</td>\n",
       "      <td>Twitter for iPhone</td>\n",
       "    </tr>\n",
       "    <tr>\n",
       "      <th>3</th>\n",
       "      <td>Riyadh</td>\n",
       "      <td>Wed Jul 12 18:46:31 +0000 2017</td>\n",
       "      <td>هلا هلا ❤❤😢 miss you \\nالطقم حكايه ثانيه افضل ...</td>\n",
       "      <td>Twitter for Android</td>\n",
       "    </tr>\n",
       "    <tr>\n",
       "      <th>4</th>\n",
       "      <td>Riyadh</td>\n",
       "      <td>Wed Jul 12 18:46:30 +0000 2017</td>\n",
       "      <td>قلب قلببببي❤️❤️❤️❤️.</td>\n",
       "      <td>Twitter for iPhone</td>\n",
       "    </tr>\n",
       "  </tbody>\n",
       "</table>\n",
       "</div>"
      ],
      "text/plain": [
       "     city                      created_at  \\\n",
       "0  Riyadh  Wed Jul 12 18:47:24 +0000 2017   \n",
       "1  Riyadh  Wed Jul 12 18:46:49 +0000 2017   \n",
       "2  Riyadh  Wed Jul 12 18:46:49 +0000 2017   \n",
       "3  Riyadh  Wed Jul 12 18:46:31 +0000 2017   \n",
       "4  Riyadh  Wed Jul 12 18:46:30 +0000 2017   \n",
       "\n",
       "                                                text               source  \n",
       "0  #امسيه_منيف_الخمشي\\n\\nيكفي انها كلمات مؤثرة تت...   Twitter Web Client  \n",
       "1  وإن أحبُّوك ألفاً فلن يحبُّوك إلا قِطرة من بحري❤️   Twitter for iPhone  \n",
       "2  البيت الاخير يختصر كل المعاناة ❤️❤️😢 https://t...   Twitter for iPhone  \n",
       "3  هلا هلا ❤❤😢 miss you \\nالطقم حكايه ثانيه افضل ...  Twitter for Android  \n",
       "4                               قلب قلببببي❤️❤️❤️❤️.   Twitter for iPhone  "
      ]
     },
     "execution_count": 4,
     "metadata": {},
     "output_type": "execute_result"
    }
   ],
   "source": [
    "tweets.head()"
   ]
  },
  {
   "cell_type": "markdown",
   "metadata": {},
   "source": [
    "<p style=\"direction:rtl; text-align:right\">\n",
    "\n",
    "كلنا نعرف كمية التغريدات المزعجة (السبام) في تويتر العربي. ابتدا من \" تبي ينلحس مخك؟\" إلى الإعلانات الغثيثة ومروراً بحسابات الأدعية والأذكاء والتي سرعان ما تصل إلى أعداد متابعين كبيرة لتُباع مرة أخرى لمن أحب بريق الشهرة. على أية حال، هنا طريقة بسيطة وفعالة لفلترة التغريدات المزعجة وذلك بتحديد مصدر التغريدة. إن كنت مهتماً بمجال تحليل تغريدات تويتر وتواجه مشكلة في التغريدات المزعجة فلدي أفكار أخرى قليلة لا أمانع من مشاركتها، ولكن هذه الطريقة أدنا (الفلترة بالمصدر) هي الطريقة الأكثر فعالية.\n",
    "\n",
    "</p>\n"
   ]
  },
  {
   "cell_type": "code",
   "execution_count": 5,
   "metadata": {
    "collapsed": false
   },
   "outputs": [],
   "source": [
    "good_sources = ['Twitter Web Client', 'Twitter for iPhone', 'Twitter for Android', 'Twitter for iPad', 'Twitter Lite']"
   ]
  },
  {
   "cell_type": "code",
   "execution_count": 6,
   "metadata": {
    "collapsed": false,
    "scrolled": true
   },
   "outputs": [],
   "source": [
    "tweets = tweets[tweets.source.isin(good_sources)]"
   ]
  },
  {
   "cell_type": "markdown",
   "metadata": {},
   "source": [
    "<p style=\"direction:rtl; text-align:right\">\n",
    "كإجراء احتياطي، سنقوم بحذف الصفوف المكررة إن كان هناك صفوف مكررة حتى يحوي كل صف على تغريدة فريدة وغير مكررة. يلي ذلك طباعة عدد التغريدات في الجدول ألا وهو 134763 وهو عدد لا بأس به لغرض الاستكشاف\n",
    "</p>"
   ]
  },
  {
   "cell_type": "code",
   "execution_count": 7,
   "metadata": {
    "collapsed": true
   },
   "outputs": [],
   "source": [
    "tweets.drop_duplicates(inplace=True)\n",
    "tweets.reset_index(inplace=True, drop=['index'])"
   ]
  },
  {
   "cell_type": "code",
   "execution_count": 8,
   "metadata": {
    "collapsed": false
   },
   "outputs": [
    {
     "name": "stdout",
     "output_type": "stream",
     "text": [
      "Total number of tweets:  134763\n"
     ]
    }
   ],
   "source": [
    "print('Total number of tweets: ', len(tweets))"
   ]
  },
  {
   "cell_type": "markdown",
   "metadata": {},
   "source": [
    "<p style=\"direction:rtl; font-size:25px; text-align:right; font-weight: bold;\" > \n",
    "تنظيف البيانات"
   ]
  },
  {
   "cell_type": "markdown",
   "metadata": {},
   "source": [
    "<p style=\"direction:rtl; text-align:right\"> \n",
    "في الخانات التالية، سنقوم بأصعب مهمة في مجال تحليل البيانات، ألا هي تنظيف البيانات. ما يزيد المهمة صعوبة هو تنظيف النصوص العربية نظراً لوجود الكثير من الأخطاء الإملائية في النصوص العربية والزخارف وما إلى ذلك.\n",
    "\n",
    "<br /> <br /> \n",
    "\n",
    "هناك الكثير من الخطوات التي يمكن عملها في مهمة تنظيف نص التغريدات ولكني اقتصرت على خطوات أساسية أعتقد أنها كافية لإعطاء نتائج على قدر لا بأس به من الدقة للمجالات العامة. بالمناسبة، نحن لن نحتاج إلى أي نصوص في هذه التدوينة سوى الوجوه التعبيرية ( والتي لا تستدعي كل هذه الخطوات على أية حال). ولكن لأني أيضاً قمت بالعديد من التحليلات الجانبية المتعلقة بنصوص التغريدات والتي قد لا يتسع المجال للحديث عنها.\n",
    "\n",
    "</p>"
   ]
  },
  {
   "cell_type": "code",
   "execution_count": 9,
   "metadata": {
    "collapsed": true
   },
   "outputs": [],
   "source": [
    "def denoise_arabic(text):\n",
    "    noise = re.compile(\"\"\" ّ    | # Tashdid\n",
    "                             َ    | # Fatha\n",
    "                             ً    | # Tanwin Fath\n",
    "                             ُ    | # Damma\n",
    "                             ٌ    | # Tanwin Damm\n",
    "                             ِ    | # Kasra\n",
    "                             ٍ    | # Tanwin Kasr\n",
    "                             ْ    | # Sukun\n",
    "                             ـ     # Tatwil/Kashida\n",
    "                         \"\"\", re.VERBOSE)\n",
    "    text = re.sub(noise, '', text)\n",
    "    return text\n",
    "\n",
    "def normalize_arabic(text):\n",
    "    text = re.sub(\"[إأٱآا]\", \"ا\", text, flags=re.MULTILINE)\n",
    "    text = re.sub(\"ى\", \"ي\", text, flags=re.UNICODE)\n",
    "    text = re.sub(\"ؤ\", \"ء\", text, flags=re.UNICODE)\n",
    "    text = re.sub(\"ئ\", \"ء\", text, flags=re.UNICODE)\n",
    "    return text\n",
    "\n",
    "def clean_tweet(text):\n",
    "    URL_re = r'(http|https|ftp)://[a-zA-Z0-9\\\\./]+' # replace URLs\n",
    "    HASH_re = r'#(\\w+)' # replace Hashtags\n",
    "    HANDLE_re = r'@(\\w+)' # replace Handles\n",
    "    REPUNC_re = r'[\\?\\.\\!]+(?=[\\?\\.\\!])' # normalize repeating punctuations (e.g., ?? or !!!)\n",
    "    RECHAR_re = r'(\\w)\\1{1,}' # remove repeating charachters \n",
    "    NEWLINE_re = r'[\\n]+' # remove new lines \n",
    "    NUM_CHARS_AR_re = r'[١٢٣٤٥٦٧٨٩٠؟!٪:،؛.]+'\n",
    "    NUM_CHARS_EN_re = r'[0123456789!\"$%&\\\\\\'()*+,-.;<>=?@[]^_`{═}—“”•‹|~«°»˓ ̮ ̯]+'\n",
    "    WHITE_SPACE_re = r'\\s+'\n",
    "    \n",
    "    text = re.sub(URL_re,  r'', text, flags=re.UNICODE)\n",
    "    text = re.sub(HASH_re,  r'', text, flags=re.UNICODE)\n",
    "    text = re.sub(HANDLE_re,  r'', text, flags=re.UNICODE)\n",
    "    text = re.sub(REPUNC_re,  r' ', text, flags=re.UNICODE)\n",
    "    text = re.sub(RECHAR_re,  r'\\1', text, flags=re.UNICODE)\n",
    "    text = re.sub(NEWLINE_re,  r'', text, flags=re.UNICODE)\n",
    "    text = re.sub(NUM_CHARS_AR_re,  r'', text, flags=re.UNICODE)\n",
    "    text = re.sub(NUM_CHARS_EN_re,  r'', text, flags=re.UNICODE)\n",
    "    text = re.sub(WHITE_SPACE_re,  r' ', text, flags=re.UNICODE)\n",
    "    \n",
    "    return text\n",
    "\n",
    "tweets.text = tweets.text.apply(lambda x: denoise_arabic(str(x)))\n",
    "tweets.text = tweets.text.apply(lambda x: normalize_arabic(str(x)))\n",
    "tweets.text = tweets.text.apply(lambda x: clean_tweet(str(x)))\n",
    "toremove = '! ... ? ! \\u200b ...  ?  y ֆ ⤵ ⇜ ✎ ❃ ❥ ༺ ༻ ┄ ࿐ | ᅠ\\u200b \\u200c \\u200d — “ ” • ‹ \\u2066 \\u2067 \\u2069 ⃣ ↓ ↴ ⇣ ⌝ ┈ ┉ ┊ ═ ! \" # $ % & \\' ( ) * + , - ... / 0 1 10 10/10 12 13 1373 14 140جرام 15 16 17 17,0 18 19 1935 2 20 2015 2017 2020 2030 21 24 25 26 27 28 2leh_q 3 30 36 4 40 5 5/5 50 6 60 61 7 7/7 70 8 80 9 90 ; < = > ? @ [ ] ^ _ _20 ` { } ~ « ° » ˓ ̮ ̯'        \n",
    "regex = re.compile(\"(\" + \"|\".join(map(re.escape, toremove.split(' '))) + \")\")\n",
    "tweets.text = tweets.text.apply(lambda x: re.sub(regex, r'', x))\n",
    "tweets.text = tweets.text.apply(lambda x: re.sub(r'[0123456789A-Za-z?!]', r'', x))"
   ]
  },
  {
   "cell_type": "markdown",
   "metadata": {},
   "source": [
    "<p style=\"direction:rtl; text-align:right\"> \n",
    "بعد أن انتهيت من تنظيف النصوص، اكتشفت أن خانة \" المدينة\" في عدد قليل جداً من الصفوف لم يكن صحيحا. لتسوية الأمر، سنقرأ جدول المدن ثم نفلتر كل الصفوف الخاطئة.\n",
    "</p>"
   ]
  },
  {
   "cell_type": "code",
   "execution_count": 10,
   "metadata": {
    "collapsed": false
   },
   "outputs": [],
   "source": [
    "cities = pd.read_csv('./data/cities_lat_long.csv')\n",
    "tweets = tweets[tweets.city.isin(cities.city.tolist())]\n",
    "tweets.reset_index(inplace=True, drop=['index'])"
   ]
  },
  {
   "cell_type": "markdown",
   "metadata": {},
   "source": [
    "<p style=\"direction:rtl; text-align:right\">\n",
    "هذه هي قائمة المدن في قاعدة البيانات الحالية..\n",
    "</p>"
   ]
  },
  {
   "cell_type": "code",
   "execution_count": 11,
   "metadata": {
    "collapsed": false
   },
   "outputs": [
    {
     "data": {
      "text/plain": [
       "array(['Riyadh', 'Tabuk', 'Jeddah', 'Hail', 'Mecca', 'Medina', 'Jubail',\n",
       "       'Hofuf', 'Jazan', 'Al-Kharj', 'Taif', 'Qatif', 'Dammam', 'Abha',\n",
       "       'Khamis Mushait', 'Najran', 'Buraidah', 'Yanbu', 'Khobar'], dtype=object)"
      ]
     },
     "execution_count": 11,
     "metadata": {},
     "output_type": "execute_result"
    }
   ],
   "source": [
    "tweets.city.unique()"
   ]
  },
  {
   "cell_type": "markdown",
   "metadata": {},
   "source": [
    "<p style=\"direction:rtl; font-size:25px; text-align:right; font-weight: bold;\" >\n",
    "تحليل البيانات الاستكشافي (Exploratory Data Analysis)"
   ]
  },
  {
   "cell_type": "markdown",
   "metadata": {},
   "source": [
    "<p style=\"direction:rtl; text-align:right;\">\n",
    "نبدأ الآن استكشاف البيانات. استكشاف البيانات هي عملية إبداعية وفضولية في المقام الأول، إذا لا يوجد لها أي قواعد تحكمها ولا مبادئ تقف عندها. الهدف هو أن نفهم بنية البيانات وطبيعتها بشكل أفضل. تقوم هذه المرحلة بشكل أساسي على التساؤلات التي نود الإجابة عنها. أدناه سردت أبرز الأسئلة التي طالما كانت حاضرة في ذهني ودفعتني للقيام بهذا المشروع..\n",
    "<br>\n",
    "<ul style=\"direction:rtl\">\n",
    "<li>ماهي الرموز التعبيرية الأكثر استخداماً في جميع المدن وماهي الرموز التعبيرية الأقل شيوعاً؟ وهل تشبه هذه القائمة موقع <a href=\"http://emojitracker.com\">EmojiTracker</a> المختص برصد الوجوه التعبيرية الأكثر استخداماً في موقع تويتر؟</li>\n",
    "<li>ماهي المدن الأكثر استخداماً للرموز التعبيرية وماهي المدن الأقل استخداماً للرموز التعبيرية؟</li>\n",
    "<li>هل هناك رموز تعبيرية محددة تستخدم بشكل أكثر في كل مدينة؟ مثلاً هل هناك رموز تعبيرية يستخدمها سكان جدة بنسبة أعلى من سكان الدمام؟</li>\n",
    "<li>هناك رموز تعبيرية \"إيجابية\" مثل القلب والورد والوجه الضاحك، بينما هناك رموز تعبيرية سلبية مثل القلب المكسور والوجه الباكي وغيرها. هل نستطيع معرفة أي المدن أكثر استخداماً للرموز الإيجابية وأيها أكثر استخداماً للرموز السلبية؟</li>\n",
    "<li>أيضاً، بما أن لدينا معلومات حول وقت كتابة التغريدات، هل حديث الليل يشبه حديث النهار؟</li>\n",
    "</ul>\n",
    "</p>"
   ]
  },
  {
   "cell_type": "markdown",
   "metadata": {},
   "source": [
    "<p style=\"direction:rtl; text-align:right;\">\n",
    "لا أحب أن أستطرد في الأسئلة التي يمكننا البحث عنها حيث أن هذه البيانات غنية وثرية جداً. كل هذه الأسئلة ونحن لم نستخدم بعد نصوص التغريدات أو علاقات المغردين ببعضهم البعض وغير ذلك من الأسئلة التي تصلح لمشاريع قادمة. في هذا المشروع سوف نركز فقط على أنماط استخدام الرموز التعبيرية بين مجموعة من مدن المملكة..\n",
    "<br/> <br/>\n",
    "الآن سنبدأ بتجهيز البيانات بشكل مناسب للإجابة عن الأسئلة. بكل بساطة، سنجهز جدولاً آخر للتغريدات بحيث تبقى الصفوف تمثل التغريدات ولكن الأعمدة هذه المرة تمثل الرموز التعبيرية. وكل رمز تعبيري يستخدم سيكون له قيمة 1 فيما ستكون الباقية 0. ومن هذا الجدول نستطيع المضي قدماً في التحليل. \n",
    "</p>"
   ]
  },
  {
   "cell_type": "code",
   "execution_count": 13,
   "metadata": {
    "collapsed": false
   },
   "outputs": [],
   "source": [
    "emojis_to_extract = '☀ ☁ ☄ ★ ☎ ☔ ☕ ☘ ☝ ☹ ☺ ☻ ♀ ♂ ♠ ♡ ♥ ♨ ♩ ♪ ⚕ ⚘ ⚜ ⚡ ⚫ ⚽ ⛅ ✅ ✈ ✉ ✋ ✌ ✍ ✔ ✨ ✿ ❀ ❁ ❃ ❄ ❋ ❌ ❕ ❗ ❣ ❤ ❥ ⤵ ⬇ ⭐ ️ 🇦 🇧 🇨 🇪 🇬 🇭 🇮 🇰 🇱 🇲 🇳 🇵 🇶 🇷 🇸 🇹 🇺 🇼 🇾 🌈 🌌 🌎 🌑 🌕 🌙 🌚 🌝 🌞 🌟 🌤 🌥 🌧 🌨 🌬 🌱 🌲 🌴 🌷 🌸 🌹 🌺 🌻 🌼 🌾 🌿 🍀 🍁 🍂 🍃 🍆 🍇 🍌 🍏 🍑 🍒 🍔 🍥 🍦 🍫 🍭 🍰 🍳 🍺 🍻 🍼 🎀 🎁 🎂 🎈 🎉 🎊 🎓 🎤 🎧 🎨 🎬 🎭 🎵 🎶 🎷 🎹 🎻 🎼 🏁 🏃 🏆 🏳 🏹 🏻 🏼 🏽 🏾 🏿 🐒 🐙 🐥 🐸 👀 👄 👅 👆 👇 👈 👉 👊 👋 👌 👍 👎 👏 👐 👑 👞 👧 👨 👩 👪 👭 👰 👵 👶 👸 👻 👼 👽 💀 💁 💃 💅 💆 💉 💋 💌 💍 💎 💐 💓 💔 💕 💖 💗 💘 💙 💚 💛 💜 💝 💞 💟 💡 💢 💣 💤 💥 💦 💧 💨 💩 💪 💫 💬 💭 💯 💰 💵 💸 📌 📍 📖 📚 📝 📞 📣 📩 📮 📯 📱 📲 📷 📻 🔁 🔐 🔑 🔕 🔗 🔝 🔞 🔥 🔪 🔫 🔴 🔵 🔶 🔹 🔻 🕊 🕋 🕑 🕛 🕞 🕺 🖐 🖒 🖕 🖖 🖤 🗓 🗝 🗣 😀 😁 😂 😃 😄 😅 😆 😇 😈 😉 😊 😋 😌 😍 😎 😏 😐 😑 😒 😓 😔 😕 😖 😗 😘 😙 😚 😛 😜 😝 😞 😟 😠 😡 😢 😣 😤 😥 😦 😧 😨 😩 😪 😫 😬 😭 😮 😯 😰 😱 😲 😳 😴 😶 😷 😹 😻 😼 😽 😾 😿 🙀 🙁 🙂 🙃 🙄 🙅 🙆 🙇 🙈 🙉 🙊 🙋 🙌 🙍 🙏 🚀 🚗 🚫 🚬 🚶 🛑 🤐 🤒 🤓 🤔 🤕 🤗 🤘 🤙 🤚 🤛 🤝 🤞 🤢 🤣 🤤 🤦 🤧 🤷 🥀 🦋'\n",
    "emojis_to_extract = emojis_to_extract.split(' ')"
   ]
  },
  {
   "cell_type": "code",
   "execution_count": 14,
   "metadata": {
    "collapsed": false
   },
   "outputs": [],
   "source": [
    "word_vectorizer_count = CountVectorizer(ngram_range=(1, 1),\n",
    "                                        strip_accents='unicode', \n",
    "                                        tokenizer=nltk.tokenize.TweetTokenizer().tokenize,\n",
    "                                        vocabulary=emojis_to_extract,\n",
    "                                       )"
   ]
  },
  {
   "cell_type": "code",
   "execution_count": 15,
   "metadata": {
    "collapsed": false,
    "scrolled": true
   },
   "outputs": [
    {
     "name": "stdout",
     "output_type": "stream",
     "text": [
      "(134763, 362)\n",
      "CPU times: user 11.9 s, sys: 71.2 ms, total: 11.9 s\n",
      "Wall time: 15.1 s\n"
     ]
    }
   ],
   "source": [
    "%%time\n",
    "text_vectors = word_vectorizer_count.fit_transform(tweets.text)\n",
    "print(text_vectors.shape)"
   ]
  },
  {
   "cell_type": "code",
   "execution_count": 16,
   "metadata": {
    "collapsed": false
   },
   "outputs": [],
   "source": [
    "features = np.array(word_vectorizer_count.get_feature_names())"
   ]
  },
  {
   "cell_type": "markdown",
   "metadata": {},
   "source": [
    "<p style=\"direction:rtl; text-align:right;\">\n",
    "لابد أن نتأكد أن الجدول الجديد مبني بشكل صحيح.. سنطبع تغريدة عشوائية أولاً، ثم نرى ماهي الرموز التعبيرية التي تساوي 1 لذات التغريدة. يجب أن يكون الاثنان متساويان.\n",
    "</p>"
   ]
  },
  {
   "cell_type": "code",
   "execution_count": 17,
   "metadata": {
    "collapsed": false,
    "scrolled": true
   },
   "outputs": [
    {
     "name": "stdout",
     "output_type": "stream",
     "text": [
      "Tweet:\t\t  اذا لقيتي عطيني 🤗💔 \n",
      "Features:\t\t ['💔' '🤗']\n"
     ]
    }
   ],
   "source": [
    "idx = np.random.choice(tweets.shape[0], 1)[0]\n",
    "print('Tweet:\\t\\t', tweets.text[idx], \n",
    "      '\\nFeatures:\\t\\t', features[np.where(text_vectors.todense()[idx]>0)[1]]\n",
    "     )"
   ]
  },
  {
   "cell_type": "code",
   "execution_count": 18,
   "metadata": {
    "collapsed": false
   },
   "outputs": [
    {
     "name": "stdout",
     "output_type": "stream",
     "text": [
      "Tweet:\t\t جد 😍😍😍💙💙 ياسلام 😍😍👏 خلص ولا لسا  \n",
      "Features:\t\t ['👏' '💙' '😍']\n"
     ]
    }
   ],
   "source": [
    "idx = np.random.choice(tweets.shape[0], 1)[0]\n",
    "print('Tweet:\\t\\t', tweets.text[idx], \n",
    "      '\\nFeatures:\\t\\t', features[np.where(text_vectors.todense()[idx]>0)[1]]\n",
    "     )"
   ]
  },
  {
   "cell_type": "code",
   "execution_count": 19,
   "metadata": {
    "collapsed": false,
    "scrolled": true
   },
   "outputs": [
    {
     "name": "stdout",
     "output_type": "stream",
     "text": [
      "Tweet:\t\t  نتفتي الحلوه فيها كياته موطبيعي 😭❤❤🍥  \n",
      "Features:\t\t ['❤' '🍥' '😭']\n"
     ]
    }
   ],
   "source": [
    "idx = np.random.choice(tweets.shape[0], 1)[0]\n",
    "print('Tweet:\\t\\t', tweets.text[idx], \n",
    "      '\\nFeatures:\\t\\t', features[np.where(text_vectors.todense()[idx]>0)[1]]\n",
    "     )"
   ]
  },
  {
   "cell_type": "markdown",
   "metadata": {},
   "source": [
    "<p style=\"direction:rtl; text-align:right;\">\n",
    "يبدو أن الأمور على ما يرام (ماعدا بعض الأخطاء المتعلقة بترميز النصوص وليس بسبب أداءنا للتحليل).\n",
    "</p>"
   ]
  },
  {
   "cell_type": "code",
   "execution_count": 20,
   "metadata": {
    "collapsed": false
   },
   "outputs": [],
   "source": [
    "emoj_df = pd.DataFrame(text_vectors.todense(), columns=features)"
   ]
  },
  {
   "cell_type": "code",
   "execution_count": 21,
   "metadata": {
    "collapsed": false
   },
   "outputs": [
    {
     "data": {
      "text/html": [
       "<div>\n",
       "<table border=\"1\" class=\"dataframe\">\n",
       "  <thead>\n",
       "    <tr style=\"text-align: right;\">\n",
       "      <th></th>\n",
       "      <th>☀</th>\n",
       "      <th>☁</th>\n",
       "      <th>☄</th>\n",
       "      <th>★</th>\n",
       "      <th>☎</th>\n",
       "      <th>☔</th>\n",
       "      <th>☕</th>\n",
       "      <th>☘</th>\n",
       "      <th>☝</th>\n",
       "      <th>☹</th>\n",
       "      <th>...</th>\n",
       "      <th>🤝</th>\n",
       "      <th>🤞</th>\n",
       "      <th>🤢</th>\n",
       "      <th>🤣</th>\n",
       "      <th>🤤</th>\n",
       "      <th>🤦</th>\n",
       "      <th>🤧</th>\n",
       "      <th>🤷</th>\n",
       "      <th>🥀</th>\n",
       "      <th>🦋</th>\n",
       "    </tr>\n",
       "  </thead>\n",
       "  <tbody>\n",
       "    <tr>\n",
       "      <th>0</th>\n",
       "      <td>0</td>\n",
       "      <td>0</td>\n",
       "      <td>0</td>\n",
       "      <td>0</td>\n",
       "      <td>0</td>\n",
       "      <td>0</td>\n",
       "      <td>0</td>\n",
       "      <td>0</td>\n",
       "      <td>0</td>\n",
       "      <td>0</td>\n",
       "      <td>...</td>\n",
       "      <td>0</td>\n",
       "      <td>0</td>\n",
       "      <td>0</td>\n",
       "      <td>0</td>\n",
       "      <td>0</td>\n",
       "      <td>0</td>\n",
       "      <td>0</td>\n",
       "      <td>0</td>\n",
       "      <td>0</td>\n",
       "      <td>0</td>\n",
       "    </tr>\n",
       "    <tr>\n",
       "      <th>1</th>\n",
       "      <td>0</td>\n",
       "      <td>0</td>\n",
       "      <td>0</td>\n",
       "      <td>0</td>\n",
       "      <td>0</td>\n",
       "      <td>0</td>\n",
       "      <td>0</td>\n",
       "      <td>0</td>\n",
       "      <td>0</td>\n",
       "      <td>0</td>\n",
       "      <td>...</td>\n",
       "      <td>0</td>\n",
       "      <td>0</td>\n",
       "      <td>0</td>\n",
       "      <td>0</td>\n",
       "      <td>0</td>\n",
       "      <td>0</td>\n",
       "      <td>0</td>\n",
       "      <td>0</td>\n",
       "      <td>0</td>\n",
       "      <td>0</td>\n",
       "    </tr>\n",
       "    <tr>\n",
       "      <th>2</th>\n",
       "      <td>0</td>\n",
       "      <td>0</td>\n",
       "      <td>0</td>\n",
       "      <td>0</td>\n",
       "      <td>0</td>\n",
       "      <td>0</td>\n",
       "      <td>0</td>\n",
       "      <td>0</td>\n",
       "      <td>0</td>\n",
       "      <td>0</td>\n",
       "      <td>...</td>\n",
       "      <td>0</td>\n",
       "      <td>0</td>\n",
       "      <td>0</td>\n",
       "      <td>0</td>\n",
       "      <td>0</td>\n",
       "      <td>0</td>\n",
       "      <td>0</td>\n",
       "      <td>0</td>\n",
       "      <td>0</td>\n",
       "      <td>0</td>\n",
       "    </tr>\n",
       "    <tr>\n",
       "      <th>3</th>\n",
       "      <td>0</td>\n",
       "      <td>0</td>\n",
       "      <td>0</td>\n",
       "      <td>0</td>\n",
       "      <td>0</td>\n",
       "      <td>0</td>\n",
       "      <td>0</td>\n",
       "      <td>0</td>\n",
       "      <td>0</td>\n",
       "      <td>0</td>\n",
       "      <td>...</td>\n",
       "      <td>0</td>\n",
       "      <td>0</td>\n",
       "      <td>0</td>\n",
       "      <td>0</td>\n",
       "      <td>0</td>\n",
       "      <td>0</td>\n",
       "      <td>0</td>\n",
       "      <td>0</td>\n",
       "      <td>0</td>\n",
       "      <td>0</td>\n",
       "    </tr>\n",
       "    <tr>\n",
       "      <th>4</th>\n",
       "      <td>0</td>\n",
       "      <td>0</td>\n",
       "      <td>0</td>\n",
       "      <td>0</td>\n",
       "      <td>0</td>\n",
       "      <td>0</td>\n",
       "      <td>0</td>\n",
       "      <td>0</td>\n",
       "      <td>0</td>\n",
       "      <td>0</td>\n",
       "      <td>...</td>\n",
       "      <td>0</td>\n",
       "      <td>0</td>\n",
       "      <td>0</td>\n",
       "      <td>0</td>\n",
       "      <td>0</td>\n",
       "      <td>0</td>\n",
       "      <td>0</td>\n",
       "      <td>0</td>\n",
       "      <td>0</td>\n",
       "      <td>0</td>\n",
       "    </tr>\n",
       "  </tbody>\n",
       "</table>\n",
       "<p>5 rows × 362 columns</p>\n",
       "</div>"
      ],
      "text/plain": [
       "   ☀  ☁  ☄  ★  ☎  ☔  ☕  ☘  ☝  ☹ ...  🤝  🤞  🤢  🤣  🤤  🤦  🤧  🤷  🥀  🦋\n",
       "0  0  0  0  0  0  0  0  0  0  0 ...  0  0  0  0  0  0  0  0  0  0\n",
       "1  0  0  0  0  0  0  0  0  0  0 ...  0  0  0  0  0  0  0  0  0  0\n",
       "2  0  0  0  0  0  0  0  0  0  0 ...  0  0  0  0  0  0  0  0  0  0\n",
       "3  0  0  0  0  0  0  0  0  0  0 ...  0  0  0  0  0  0  0  0  0  0\n",
       "4  0  0  0  0  0  0  0  0  0  0 ...  0  0  0  0  0  0  0  0  0  0\n",
       "\n",
       "[5 rows x 362 columns]"
      ]
     },
     "execution_count": 21,
     "metadata": {},
     "output_type": "execute_result"
    }
   ],
   "source": [
    "emoj_df.head()"
   ]
  },
  {
   "cell_type": "code",
   "execution_count": 22,
   "metadata": {
    "collapsed": false
   },
   "outputs": [],
   "source": [
    "tweets_emoj = pd.concat([tweets.city, emoj_df], axis=1, ignore_index=False)"
   ]
  },
  {
   "cell_type": "code",
   "execution_count": 23,
   "metadata": {
    "collapsed": false,
    "scrolled": true
   },
   "outputs": [
    {
     "data": {
      "text/html": [
       "<div>\n",
       "<table border=\"1\" class=\"dataframe\">\n",
       "  <thead>\n",
       "    <tr style=\"text-align: right;\">\n",
       "      <th></th>\n",
       "      <th>city</th>\n",
       "      <th>☀</th>\n",
       "      <th>☁</th>\n",
       "      <th>☄</th>\n",
       "      <th>★</th>\n",
       "      <th>☎</th>\n",
       "      <th>☔</th>\n",
       "      <th>☕</th>\n",
       "      <th>☘</th>\n",
       "      <th>☝</th>\n",
       "      <th>...</th>\n",
       "      <th>🤝</th>\n",
       "      <th>🤞</th>\n",
       "      <th>🤢</th>\n",
       "      <th>🤣</th>\n",
       "      <th>🤤</th>\n",
       "      <th>🤦</th>\n",
       "      <th>🤧</th>\n",
       "      <th>🤷</th>\n",
       "      <th>🥀</th>\n",
       "      <th>🦋</th>\n",
       "    </tr>\n",
       "  </thead>\n",
       "  <tbody>\n",
       "    <tr>\n",
       "      <th>0</th>\n",
       "      <td>Riyadh</td>\n",
       "      <td>0</td>\n",
       "      <td>0</td>\n",
       "      <td>0</td>\n",
       "      <td>0</td>\n",
       "      <td>0</td>\n",
       "      <td>0</td>\n",
       "      <td>0</td>\n",
       "      <td>0</td>\n",
       "      <td>0</td>\n",
       "      <td>...</td>\n",
       "      <td>0</td>\n",
       "      <td>0</td>\n",
       "      <td>0</td>\n",
       "      <td>0</td>\n",
       "      <td>0</td>\n",
       "      <td>0</td>\n",
       "      <td>0</td>\n",
       "      <td>0</td>\n",
       "      <td>0</td>\n",
       "      <td>0</td>\n",
       "    </tr>\n",
       "    <tr>\n",
       "      <th>1</th>\n",
       "      <td>Riyadh</td>\n",
       "      <td>0</td>\n",
       "      <td>0</td>\n",
       "      <td>0</td>\n",
       "      <td>0</td>\n",
       "      <td>0</td>\n",
       "      <td>0</td>\n",
       "      <td>0</td>\n",
       "      <td>0</td>\n",
       "      <td>0</td>\n",
       "      <td>...</td>\n",
       "      <td>0</td>\n",
       "      <td>0</td>\n",
       "      <td>0</td>\n",
       "      <td>0</td>\n",
       "      <td>0</td>\n",
       "      <td>0</td>\n",
       "      <td>0</td>\n",
       "      <td>0</td>\n",
       "      <td>0</td>\n",
       "      <td>0</td>\n",
       "    </tr>\n",
       "    <tr>\n",
       "      <th>2</th>\n",
       "      <td>Riyadh</td>\n",
       "      <td>0</td>\n",
       "      <td>0</td>\n",
       "      <td>0</td>\n",
       "      <td>0</td>\n",
       "      <td>0</td>\n",
       "      <td>0</td>\n",
       "      <td>0</td>\n",
       "      <td>0</td>\n",
       "      <td>0</td>\n",
       "      <td>...</td>\n",
       "      <td>0</td>\n",
       "      <td>0</td>\n",
       "      <td>0</td>\n",
       "      <td>0</td>\n",
       "      <td>0</td>\n",
       "      <td>0</td>\n",
       "      <td>0</td>\n",
       "      <td>0</td>\n",
       "      <td>0</td>\n",
       "      <td>0</td>\n",
       "    </tr>\n",
       "    <tr>\n",
       "      <th>3</th>\n",
       "      <td>Riyadh</td>\n",
       "      <td>0</td>\n",
       "      <td>0</td>\n",
       "      <td>0</td>\n",
       "      <td>0</td>\n",
       "      <td>0</td>\n",
       "      <td>0</td>\n",
       "      <td>0</td>\n",
       "      <td>0</td>\n",
       "      <td>0</td>\n",
       "      <td>...</td>\n",
       "      <td>0</td>\n",
       "      <td>0</td>\n",
       "      <td>0</td>\n",
       "      <td>0</td>\n",
       "      <td>0</td>\n",
       "      <td>0</td>\n",
       "      <td>0</td>\n",
       "      <td>0</td>\n",
       "      <td>0</td>\n",
       "      <td>0</td>\n",
       "    </tr>\n",
       "    <tr>\n",
       "      <th>4</th>\n",
       "      <td>Riyadh</td>\n",
       "      <td>0</td>\n",
       "      <td>0</td>\n",
       "      <td>0</td>\n",
       "      <td>0</td>\n",
       "      <td>0</td>\n",
       "      <td>0</td>\n",
       "      <td>0</td>\n",
       "      <td>0</td>\n",
       "      <td>0</td>\n",
       "      <td>...</td>\n",
       "      <td>0</td>\n",
       "      <td>0</td>\n",
       "      <td>0</td>\n",
       "      <td>0</td>\n",
       "      <td>0</td>\n",
       "      <td>0</td>\n",
       "      <td>0</td>\n",
       "      <td>0</td>\n",
       "      <td>0</td>\n",
       "      <td>0</td>\n",
       "    </tr>\n",
       "  </tbody>\n",
       "</table>\n",
       "<p>5 rows × 363 columns</p>\n",
       "</div>"
      ],
      "text/plain": [
       "     city  ☀  ☁  ☄  ★  ☎  ☔  ☕  ☘  ☝ ...  🤝  🤞  🤢  🤣  🤤  🤦  🤧  🤷  🥀  🦋\n",
       "0  Riyadh  0  0  0  0  0  0  0  0  0 ...  0  0  0  0  0  0  0  0  0  0\n",
       "1  Riyadh  0  0  0  0  0  0  0  0  0 ...  0  0  0  0  0  0  0  0  0  0\n",
       "2  Riyadh  0  0  0  0  0  0  0  0  0 ...  0  0  0  0  0  0  0  0  0  0\n",
       "3  Riyadh  0  0  0  0  0  0  0  0  0 ...  0  0  0  0  0  0  0  0  0  0\n",
       "4  Riyadh  0  0  0  0  0  0  0  0  0 ...  0  0  0  0  0  0  0  0  0  0\n",
       "\n",
       "[5 rows x 363 columns]"
      ]
     },
     "execution_count": 23,
     "metadata": {},
     "output_type": "execute_result"
    }
   ],
   "source": [
    "tweets_emoj.head()"
   ]
  },
  {
   "cell_type": "markdown",
   "metadata": {},
   "source": [
    "<p style=\"direction:rtl; text-align:right;\">\n",
    "بعد أن تم بناء الجدول بشكل سليم وإضافة خانة المدينة، سنقوم الآن بالخطوة النهائية وهي تجميع الصفوف لتصبح المدينة في خانة الصفوف والرموز التعبيرية في خانة الأعمدة. الأرقام الآن ستمثل مجموع المرات التي استخدم فيها رمز تعبيري ما في التغريدات القادمة من مدينة ما. طبعت رأس الجدول لنرى كيف يبدو ذلك.\n",
    "</p>"
   ]
  },
  {
   "cell_type": "code",
   "execution_count": 24,
   "metadata": {
    "collapsed": false
   },
   "outputs": [],
   "source": [
    "tweets_emoj_city = tweets_emoj.groupby(['city']).agg(np.sum)"
   ]
  },
  {
   "cell_type": "code",
   "execution_count": 25,
   "metadata": {
    "collapsed": false
   },
   "outputs": [
    {
     "data": {
      "text/html": [
       "<div>\n",
       "<table border=\"1\" class=\"dataframe\">\n",
       "  <thead>\n",
       "    <tr style=\"text-align: right;\">\n",
       "      <th></th>\n",
       "      <th>☀</th>\n",
       "      <th>☁</th>\n",
       "      <th>☄</th>\n",
       "      <th>★</th>\n",
       "      <th>☎</th>\n",
       "      <th>☔</th>\n",
       "      <th>☕</th>\n",
       "      <th>☘</th>\n",
       "      <th>☝</th>\n",
       "      <th>☹</th>\n",
       "      <th>...</th>\n",
       "      <th>🤝</th>\n",
       "      <th>🤞</th>\n",
       "      <th>🤢</th>\n",
       "      <th>🤣</th>\n",
       "      <th>🤤</th>\n",
       "      <th>🤦</th>\n",
       "      <th>🤧</th>\n",
       "      <th>🤷</th>\n",
       "      <th>🥀</th>\n",
       "      <th>🦋</th>\n",
       "    </tr>\n",
       "    <tr>\n",
       "      <th>city</th>\n",
       "      <th></th>\n",
       "      <th></th>\n",
       "      <th></th>\n",
       "      <th></th>\n",
       "      <th></th>\n",
       "      <th></th>\n",
       "      <th></th>\n",
       "      <th></th>\n",
       "      <th></th>\n",
       "      <th></th>\n",
       "      <th></th>\n",
       "      <th></th>\n",
       "      <th></th>\n",
       "      <th></th>\n",
       "      <th></th>\n",
       "      <th></th>\n",
       "      <th></th>\n",
       "      <th></th>\n",
       "      <th></th>\n",
       "      <th></th>\n",
       "      <th></th>\n",
       "    </tr>\n",
       "  </thead>\n",
       "  <tbody>\n",
       "    <tr>\n",
       "      <th>Abha</th>\n",
       "      <td>4</td>\n",
       "      <td>2</td>\n",
       "      <td>0</td>\n",
       "      <td>0</td>\n",
       "      <td>0</td>\n",
       "      <td>4</td>\n",
       "      <td>12</td>\n",
       "      <td>0</td>\n",
       "      <td>3</td>\n",
       "      <td>222</td>\n",
       "      <td>...</td>\n",
       "      <td>2</td>\n",
       "      <td>0</td>\n",
       "      <td>7</td>\n",
       "      <td>23</td>\n",
       "      <td>5</td>\n",
       "      <td>97</td>\n",
       "      <td>1</td>\n",
       "      <td>0</td>\n",
       "      <td>18</td>\n",
       "      <td>3</td>\n",
       "    </tr>\n",
       "    <tr>\n",
       "      <th>Al-Kharj</th>\n",
       "      <td>0</td>\n",
       "      <td>0</td>\n",
       "      <td>0</td>\n",
       "      <td>0</td>\n",
       "      <td>0</td>\n",
       "      <td>0</td>\n",
       "      <td>2</td>\n",
       "      <td>0</td>\n",
       "      <td>1</td>\n",
       "      <td>47</td>\n",
       "      <td>...</td>\n",
       "      <td>0</td>\n",
       "      <td>1</td>\n",
       "      <td>0</td>\n",
       "      <td>1</td>\n",
       "      <td>8</td>\n",
       "      <td>18</td>\n",
       "      <td>0</td>\n",
       "      <td>1</td>\n",
       "      <td>3</td>\n",
       "      <td>0</td>\n",
       "    </tr>\n",
       "    <tr>\n",
       "      <th>Buraidah</th>\n",
       "      <td>1</td>\n",
       "      <td>3</td>\n",
       "      <td>0</td>\n",
       "      <td>0</td>\n",
       "      <td>0</td>\n",
       "      <td>0</td>\n",
       "      <td>10</td>\n",
       "      <td>4</td>\n",
       "      <td>5</td>\n",
       "      <td>116</td>\n",
       "      <td>...</td>\n",
       "      <td>0</td>\n",
       "      <td>0</td>\n",
       "      <td>1</td>\n",
       "      <td>23</td>\n",
       "      <td>3</td>\n",
       "      <td>24</td>\n",
       "      <td>2</td>\n",
       "      <td>1</td>\n",
       "      <td>4</td>\n",
       "      <td>0</td>\n",
       "    </tr>\n",
       "    <tr>\n",
       "      <th>Dammam</th>\n",
       "      <td>1</td>\n",
       "      <td>3</td>\n",
       "      <td>0</td>\n",
       "      <td>0</td>\n",
       "      <td>5</td>\n",
       "      <td>0</td>\n",
       "      <td>12</td>\n",
       "      <td>4</td>\n",
       "      <td>3</td>\n",
       "      <td>182</td>\n",
       "      <td>...</td>\n",
       "      <td>2</td>\n",
       "      <td>3</td>\n",
       "      <td>3</td>\n",
       "      <td>101</td>\n",
       "      <td>8</td>\n",
       "      <td>167</td>\n",
       "      <td>1</td>\n",
       "      <td>4</td>\n",
       "      <td>14</td>\n",
       "      <td>2</td>\n",
       "    </tr>\n",
       "    <tr>\n",
       "      <th>Hail</th>\n",
       "      <td>2</td>\n",
       "      <td>5</td>\n",
       "      <td>1</td>\n",
       "      <td>1</td>\n",
       "      <td>0</td>\n",
       "      <td>1</td>\n",
       "      <td>16</td>\n",
       "      <td>1</td>\n",
       "      <td>1</td>\n",
       "      <td>149</td>\n",
       "      <td>...</td>\n",
       "      <td>0</td>\n",
       "      <td>1</td>\n",
       "      <td>3</td>\n",
       "      <td>22</td>\n",
       "      <td>4</td>\n",
       "      <td>88</td>\n",
       "      <td>0</td>\n",
       "      <td>8</td>\n",
       "      <td>15</td>\n",
       "      <td>4</td>\n",
       "    </tr>\n",
       "  </tbody>\n",
       "</table>\n",
       "<p>5 rows × 362 columns</p>\n",
       "</div>"
      ],
      "text/plain": [
       "          ☀  ☁  ☄  ★  ☎  ☔   ☕  ☘  ☝    ☹ ...  🤝  🤞  🤢    🤣  🤤    🤦  🤧  🤷   🥀  \\\n",
       "city                                      ...                                   \n",
       "Abha      4  2  0  0  0  4  12  0  3  222 ...  2  0  7   23  5   97  1  0  18   \n",
       "Al-Kharj  0  0  0  0  0  0   2  0  1   47 ...  0  1  0    1  8   18  0  1   3   \n",
       "Buraidah  1  3  0  0  0  0  10  4  5  116 ...  0  0  1   23  3   24  2  1   4   \n",
       "Dammam    1  3  0  0  5  0  12  4  3  182 ...  2  3  3  101  8  167  1  4  14   \n",
       "Hail      2  5  1  1  0  1  16  1  1  149 ...  0  1  3   22  4   88  0  8  15   \n",
       "\n",
       "          🦋  \n",
       "city         \n",
       "Abha      3  \n",
       "Al-Kharj  0  \n",
       "Buraidah  0  \n",
       "Dammam    2  \n",
       "Hail      4  \n",
       "\n",
       "[5 rows x 362 columns]"
      ]
     },
     "execution_count": 25,
     "metadata": {},
     "output_type": "execute_result"
    }
   ],
   "source": [
    "tweets_emoj_city.head()"
   ]
  },
  {
   "cell_type": "markdown",
   "metadata": {},
   "source": [
    "<p style=\"direction:rtl; text-align:right;\">\n",
    "قبل أن نبدأ أي تحليل (نعم لم نحلل شيئاً بعد!)، من الواضح أن لدينا مشكلة في توزيع استخدامات الرموز التعبيرية بين المدن. فمدينة كالرياض يوجد بها عدد هائل من المغردين وعدد هائل من التغريدات كذلك ومن غير المنطقي مقارنتها مع مدينة نجران مثلاً بدون احتساب التفاوت في عدد التغريدات وعدد المغردين.\n",
    "\n",
    "<br/> <br/>\n",
    "\n",
    "لحل هذا الإشكال، سنقوم بتغيير الأرقام لتعكس النسب (داخل المدينة) وذلك بقسمة عدد مرات استخدام أي رمز تعبيري ( مثلاً الوجه الضاحك) داخل مدينة ما بعدد الوجود التعبيرية في تغريدات تلك المدينة. بعد هذه الخطوة نستطيع أن نقارن بين المدن لنقول مثلا أن نسبة استخدام الوجه الضاحك داخل الرياض أكثر من نسبة استخدام الوجه الضاحك داخل نجران بالرغم من اختلاف عدد التغريدات من كل مدينة.\n",
    "</p>"
   ]
  },
  {
   "cell_type": "code",
   "execution_count": 26,
   "metadata": {
    "collapsed": false
   },
   "outputs": [],
   "source": [
    "tweets_emoj_city_size = tweets_emoj.groupby(['city']).size()"
   ]
  },
  {
   "cell_type": "code",
   "execution_count": 27,
   "metadata": {
    "collapsed": false
   },
   "outputs": [],
   "source": [
    "tweets_emoj_city_ratio = np.divide(tweets_emoj_city, np.sqrt(tweets_emoj_city_size[:,None]))"
   ]
  },
  {
   "cell_type": "markdown",
   "metadata": {},
   "source": [
    "<p style=\"direction:rtl; text-align:right;\">\n",
    "أدناه شكل الجدول النهائي والذي يتكون الآن من نسب بدلاً من أرقام صحيحة.\n",
    "\n",
    "<br />\n",
    "\n",
    "للإجابة عن سؤالنا الأول، نستطيع مباشرة أن نحتسب \"متوسط\" استخدام الرموز التعبيرية داخل كل مدينة وثم نرتب النتائج تصاعدياً لنرى أي المدن لديها أكبر عدد من استخدام الرموز التعبيرية (نهاية القائمة) وأي المدن لديها أقل عدد من الرموز التعبيرية (بداية القائمة).\n",
    "\n",
    "</p>"
   ]
  },
  {
   "cell_type": "code",
   "execution_count": 28,
   "metadata": {
    "collapsed": false
   },
   "outputs": [
    {
     "data": {
      "text/html": [
       "<div>\n",
       "<table border=\"1\" class=\"dataframe\">\n",
       "  <thead>\n",
       "    <tr style=\"text-align: right;\">\n",
       "      <th></th>\n",
       "      <th>☀</th>\n",
       "      <th>☁</th>\n",
       "      <th>☄</th>\n",
       "      <th>★</th>\n",
       "      <th>☎</th>\n",
       "      <th>☔</th>\n",
       "      <th>☕</th>\n",
       "      <th>☘</th>\n",
       "      <th>☝</th>\n",
       "      <th>☹</th>\n",
       "      <th>...</th>\n",
       "      <th>🤝</th>\n",
       "      <th>🤞</th>\n",
       "      <th>🤢</th>\n",
       "      <th>🤣</th>\n",
       "      <th>🤤</th>\n",
       "      <th>🤦</th>\n",
       "      <th>🤧</th>\n",
       "      <th>🤷</th>\n",
       "      <th>🥀</th>\n",
       "      <th>🦋</th>\n",
       "    </tr>\n",
       "    <tr>\n",
       "      <th>city</th>\n",
       "      <th></th>\n",
       "      <th></th>\n",
       "      <th></th>\n",
       "      <th></th>\n",
       "      <th></th>\n",
       "      <th></th>\n",
       "      <th></th>\n",
       "      <th></th>\n",
       "      <th></th>\n",
       "      <th></th>\n",
       "      <th></th>\n",
       "      <th></th>\n",
       "      <th></th>\n",
       "      <th></th>\n",
       "      <th></th>\n",
       "      <th></th>\n",
       "      <th></th>\n",
       "      <th></th>\n",
       "      <th></th>\n",
       "      <th></th>\n",
       "      <th></th>\n",
       "    </tr>\n",
       "  </thead>\n",
       "  <tbody>\n",
       "    <tr>\n",
       "      <th>Abha</th>\n",
       "      <td>0.041536</td>\n",
       "      <td>0.020768</td>\n",
       "      <td>0.000000</td>\n",
       "      <td>0.000000</td>\n",
       "      <td>0.000000</td>\n",
       "      <td>0.041536</td>\n",
       "      <td>0.124609</td>\n",
       "      <td>0.000000</td>\n",
       "      <td>0.031152</td>\n",
       "      <td>2.305257</td>\n",
       "      <td>...</td>\n",
       "      <td>0.020768</td>\n",
       "      <td>0.000000</td>\n",
       "      <td>0.072688</td>\n",
       "      <td>0.238833</td>\n",
       "      <td>0.051920</td>\n",
       "      <td>1.007252</td>\n",
       "      <td>0.010384</td>\n",
       "      <td>0.000000</td>\n",
       "      <td>0.186913</td>\n",
       "      <td>0.031152</td>\n",
       "    </tr>\n",
       "    <tr>\n",
       "      <th>Al-Kharj</th>\n",
       "      <td>0.000000</td>\n",
       "      <td>0.000000</td>\n",
       "      <td>0.000000</td>\n",
       "      <td>0.000000</td>\n",
       "      <td>0.000000</td>\n",
       "      <td>0.000000</td>\n",
       "      <td>0.040639</td>\n",
       "      <td>0.000000</td>\n",
       "      <td>0.020319</td>\n",
       "      <td>0.955016</td>\n",
       "      <td>...</td>\n",
       "      <td>0.000000</td>\n",
       "      <td>0.020319</td>\n",
       "      <td>0.000000</td>\n",
       "      <td>0.020319</td>\n",
       "      <td>0.162556</td>\n",
       "      <td>0.365751</td>\n",
       "      <td>0.000000</td>\n",
       "      <td>0.020319</td>\n",
       "      <td>0.060958</td>\n",
       "      <td>0.000000</td>\n",
       "    </tr>\n",
       "    <tr>\n",
       "      <th>Buraidah</th>\n",
       "      <td>0.012537</td>\n",
       "      <td>0.037612</td>\n",
       "      <td>0.000000</td>\n",
       "      <td>0.000000</td>\n",
       "      <td>0.000000</td>\n",
       "      <td>0.000000</td>\n",
       "      <td>0.125373</td>\n",
       "      <td>0.050149</td>\n",
       "      <td>0.062686</td>\n",
       "      <td>1.454324</td>\n",
       "      <td>...</td>\n",
       "      <td>0.000000</td>\n",
       "      <td>0.000000</td>\n",
       "      <td>0.012537</td>\n",
       "      <td>0.288357</td>\n",
       "      <td>0.037612</td>\n",
       "      <td>0.300895</td>\n",
       "      <td>0.025075</td>\n",
       "      <td>0.012537</td>\n",
       "      <td>0.050149</td>\n",
       "      <td>0.000000</td>\n",
       "    </tr>\n",
       "    <tr>\n",
       "      <th>Dammam</th>\n",
       "      <td>0.008719</td>\n",
       "      <td>0.026157</td>\n",
       "      <td>0.000000</td>\n",
       "      <td>0.000000</td>\n",
       "      <td>0.043595</td>\n",
       "      <td>0.000000</td>\n",
       "      <td>0.104629</td>\n",
       "      <td>0.034876</td>\n",
       "      <td>0.026157</td>\n",
       "      <td>1.586874</td>\n",
       "      <td>...</td>\n",
       "      <td>0.017438</td>\n",
       "      <td>0.026157</td>\n",
       "      <td>0.026157</td>\n",
       "      <td>0.880628</td>\n",
       "      <td>0.069753</td>\n",
       "      <td>1.456088</td>\n",
       "      <td>0.008719</td>\n",
       "      <td>0.034876</td>\n",
       "      <td>0.122067</td>\n",
       "      <td>0.017438</td>\n",
       "    </tr>\n",
       "    <tr>\n",
       "      <th>Hail</th>\n",
       "      <td>0.018734</td>\n",
       "      <td>0.046835</td>\n",
       "      <td>0.009367</td>\n",
       "      <td>0.009367</td>\n",
       "      <td>0.000000</td>\n",
       "      <td>0.009367</td>\n",
       "      <td>0.149873</td>\n",
       "      <td>0.009367</td>\n",
       "      <td>0.009367</td>\n",
       "      <td>1.395697</td>\n",
       "      <td>...</td>\n",
       "      <td>0.000000</td>\n",
       "      <td>0.009367</td>\n",
       "      <td>0.028101</td>\n",
       "      <td>0.206076</td>\n",
       "      <td>0.037468</td>\n",
       "      <td>0.824304</td>\n",
       "      <td>0.000000</td>\n",
       "      <td>0.074937</td>\n",
       "      <td>0.140506</td>\n",
       "      <td>0.037468</td>\n",
       "    </tr>\n",
       "  </tbody>\n",
       "</table>\n",
       "<p>5 rows × 362 columns</p>\n",
       "</div>"
      ],
      "text/plain": [
       "                 ☀         ☁         ☄         ★         ☎         ☔  \\\n",
       "city                                                                   \n",
       "Abha      0.041536  0.020768  0.000000  0.000000  0.000000  0.041536   \n",
       "Al-Kharj  0.000000  0.000000  0.000000  0.000000  0.000000  0.000000   \n",
       "Buraidah  0.012537  0.037612  0.000000  0.000000  0.000000  0.000000   \n",
       "Dammam    0.008719  0.026157  0.000000  0.000000  0.043595  0.000000   \n",
       "Hail      0.018734  0.046835  0.009367  0.009367  0.000000  0.009367   \n",
       "\n",
       "                 ☕         ☘         ☝         ☹    ...            🤝  \\\n",
       "city                                                ...                \n",
       "Abha      0.124609  0.000000  0.031152  2.305257    ...     0.020768   \n",
       "Al-Kharj  0.040639  0.000000  0.020319  0.955016    ...     0.000000   \n",
       "Buraidah  0.125373  0.050149  0.062686  1.454324    ...     0.000000   \n",
       "Dammam    0.104629  0.034876  0.026157  1.586874    ...     0.017438   \n",
       "Hail      0.149873  0.009367  0.009367  1.395697    ...     0.000000   \n",
       "\n",
       "                 🤞         🤢         🤣         🤤         🤦         🤧  \\\n",
       "city                                                                   \n",
       "Abha      0.000000  0.072688  0.238833  0.051920  1.007252  0.010384   \n",
       "Al-Kharj  0.020319  0.000000  0.020319  0.162556  0.365751  0.000000   \n",
       "Buraidah  0.000000  0.012537  0.288357  0.037612  0.300895  0.025075   \n",
       "Dammam    0.026157  0.026157  0.880628  0.069753  1.456088  0.008719   \n",
       "Hail      0.009367  0.028101  0.206076  0.037468  0.824304  0.000000   \n",
       "\n",
       "                 🤷         🥀         🦋  \n",
       "city                                    \n",
       "Abha      0.000000  0.186913  0.031152  \n",
       "Al-Kharj  0.020319  0.060958  0.000000  \n",
       "Buraidah  0.012537  0.050149  0.000000  \n",
       "Dammam    0.034876  0.122067  0.017438  \n",
       "Hail      0.074937  0.140506  0.037468  \n",
       "\n",
       "[5 rows x 362 columns]"
      ]
     },
     "execution_count": 28,
     "metadata": {},
     "output_type": "execute_result"
    }
   ],
   "source": [
    "tweets_emoj_city_ratio.head()"
   ]
  },
  {
   "cell_type": "code",
   "execution_count": 29,
   "metadata": {
    "collapsed": false
   },
   "outputs": [
    {
     "data": {
      "text/plain": [
       "city\n",
       "Najran            0.177028\n",
       "Jazan             0.182721\n",
       "Khamis Mushait    0.251193\n",
       "Al-Kharj          0.312089\n",
       "Yanbu             0.333752\n",
       "Taif              0.360855\n",
       "Jubail            0.388580\n",
       "Hofuf             0.410994\n",
       "Tabuk             0.448958\n",
       "Buraidah          0.492625\n",
       "Khobar            0.649636\n",
       "Abha              0.668996\n",
       "Hail              0.695209\n",
       "Dammam            0.713978\n",
       "Riyadh            0.723166\n",
       "Medina            0.732782\n",
       "Jeddah            0.736642\n",
       "Mecca             0.748855\n",
       "Qatif             0.826966\n",
       "dtype: float64"
      ]
     },
     "execution_count": 29,
     "metadata": {},
     "output_type": "execute_result"
    }
   ],
   "source": [
    "tweets_emoj_city_ratio.mean(axis=1).sort_values()"
   ]
  },
  {
   "cell_type": "markdown",
   "metadata": {},
   "source": [
    "<p style=\"direction:rtl; text-align:right;\">\n",
    "كما نستطيع عمل ذات الشيء مع الرموز التعبيرية. وهو أخذ متوسط نسب استخدام كل رمز تعبيري في جميع المدن لنعرف ماهي الرموز التعبيرية الأكثر استخداماً\n",
    "</p>"
   ]
  },
  {
   "cell_type": "code",
   "execution_count": 30,
   "metadata": {
    "collapsed": false
   },
   "outputs": [
    {
     "data": {
      "text/plain": [
       "😂    29.799377\n",
       "️    20.908354\n",
       "❤    18.033336\n",
       "💔    13.382810\n",
       "😭    10.055071\n",
       "💙     9.735467\n",
       "😍     5.278099\n",
       "🏻     3.945968\n",
       "🌹     3.881957\n",
       "💛     3.713981\n",
       "dtype: float64"
      ]
     },
     "execution_count": 30,
     "metadata": {},
     "output_type": "execute_result"
    }
   ],
   "source": [
    "tweets_emoj_city_ratio.mean(axis=0).sort_values()[::-1][:10]"
   ]
  },
  {
   "cell_type": "markdown",
   "metadata": {},
   "source": [
    "<p style=\"direction:rtl; text-align:right;\">\n",
    "أو الرموز التعبيرية الأقل استخداماً...\n",
    "</p>"
   ]
  },
  {
   "cell_type": "code",
   "execution_count": 31,
   "metadata": {
    "collapsed": false
   },
   "outputs": [
    {
     "data": {
      "text/plain": [
       "🛑    0.000000\n",
       "🕞    0.000000\n",
       "🕑    0.000000\n",
       "🍏    0.000462\n",
       "🕛    0.001069\n",
       "🍒    0.002823\n",
       "🍇    0.003647\n",
       "🍌    0.004194\n",
       "🔑    0.004369\n",
       "🍑    0.004648\n",
       "dtype: float64"
      ]
     },
     "execution_count": 31,
     "metadata": {},
     "output_type": "execute_result"
    }
   ],
   "source": [
    "tweets_emoj_city_ratio.mean(axis=0).sort_values()[:10]"
   ]
  },
  {
   "cell_type": "markdown",
   "metadata": {},
   "source": [
    "<p style=\"direction:rtl; text-align:right;\">\n",
    "كما نستطيع تمثيل هذه البيانات في شكل يسهل فهمه فيما يعرف ب \"الخرائط الحرارية\". بكل بساطة، هي إعادة رسم لذات الجدول بنفس الشكل، ولكن الأرقام الآن يتم تحويلها إلى ألوان مأخوذة من طيف لوني يجعل من السهل رؤية القيم العالية والقيم المتدنية.\n",
    "</p>"
   ]
  },
  {
   "cell_type": "code",
   "execution_count": 32,
   "metadata": {
    "collapsed": false
   },
   "outputs": [
    {
     "data": {
      "text/plain": [
       "<matplotlib.axes._subplots.AxesSubplot at 0x11aab2400>"
      ]
     },
     "execution_count": 32,
     "metadata": {},
     "output_type": "execute_result"
    },
    {
     "data": {
      "image/png": "[encoded data removed]",
      "text/plain": [
       "<matplotlib.figure.Figure at 0x11bb3c0b8>"
      ]
     },
     "metadata": {},
     "output_type": "display_data"
    }
   ],
   "source": [
    "fig, ax = plt.subplots(figsize=(15,5))\n",
    "sns.heatmap(tweets_emoj_city_ratio, ax=ax)"
   ]
  },
  {
   "cell_type": "markdown",
   "metadata": {},
   "source": [
    "<p style=\"direction:rtl; text-align:right;\">\n",
    "يبدو أن لدينا مشكلة شبيهة في الرموز التعبيرية فيما يخص اختلاف توزيع الاستخدام. فالوجه الضاحك مثلاً يحتل المركز الأول وبالتالي ستكون نسبته عالية في أغلب المدن (وهو بالمناسبة أحد الخطوط العمودية الداكنة في الشكل أعلاه). وهذا لن يجعلنا نعرف إن كانت مدينة ما تستخدمه بشكل أكثر من مدن أخرى (بعد أخذ كل العوامل الأخرى بالاعتبار). فما الحل مع الرموز التعبيرية ؟\n",
    "\n",
    "<br> <br>\n",
    "\n",
    "الحل بسيط جداً. فكر مثلاً كيف سنقارن بين رمز الوجه الضاحك ورمز الفتاة الراقصة. نحن نعرف أن \"متوسط\" استخدام الرمزين مختلف أساساً وبالتالي لكل رمز توزيع مختلف بين المدن. أبسط حل هو أن نقوم بتثبيت هذا المتوسط عند قيمة محددة لكل الرمزين لنتمكن بعدها من المقارنة العادلة. هذا بلغة الإحصاء يسمى \n",
    "<a href=\"https://en.wikipedia.org/wiki/Normalization_(statistics)\">Normalization</a> وأبسط أنواعه يسمى z-scoring ويعني طرح قيمة المتوسط من قيم التوزيع ليصبح المتوسط الجديد هو صفر، ثم قسمة قيم التوزيع على الانحراف المعياري ليصبح الانحراف المعياري موحداً بين الرموز كذلك.\n",
    "\n",
    "</p>"
   ]
  },
  {
   "cell_type": "code",
   "execution_count": 33,
   "metadata": {
    "collapsed": false
   },
   "outputs": [],
   "source": [
    "df_scaled = (tweets_emoj_city_ratio - tweets_emoj_city_ratio.mean(axis=0)) / tweets_emoj_city_ratio.std(axis=0)"
   ]
  },
  {
   "cell_type": "markdown",
   "metadata": {},
   "source": [
    "<p style=\"direction:rtl; text-align:right;\"> \n",
    "وكما هو واضح من الشكل التالي، نستطيع أن نرى الأنماط المختلفة لكل رمز تعبيري بشكل أوضح. \n",
    "\n",
    "خذ بالاعتبار أن متوسط استخدام كل رمز تعبيري هو صفر. بالتالي، حينما تأخذ أي مدينة (لنأخذ أبها مثلاً)، ستجد أن القيم الموجبة (النقاط الحمراء) تمثل معدل استخدام أعلى من باقي الرموز التعبيرية، فيما القيم السالبة (النقاط الزرقاء) تمثل معدل استخدام أقل من باقي الرموز التعبيرية.\n",
    "\n",
    "</p>"
   ]
  },
  {
   "cell_type": "code",
   "execution_count": 34,
   "metadata": {
    "collapsed": false,
    "scrolled": false
   },
   "outputs": [
    {
     "data": {
      "text/plain": [
       "<matplotlib.axes._subplots.AxesSubplot at 0x11be20e10>"
      ]
     },
     "execution_count": 34,
     "metadata": {},
     "output_type": "execute_result"
    },
    {
     "data": {
      "image/png": "[encoded data removed]",
      "text/plain": [
       "<matplotlib.figure.Figure at 0x11aab2630>"
      ]
     },
     "metadata": {},
     "output_type": "display_data"
    }
   ],
   "source": [
    "fig, ax = plt.subplots(figsize=(15,5))\n",
    "sns.heatmap(df_scaled, ax=ax)"
   ]
  },
  {
   "cell_type": "markdown",
   "metadata": {},
   "source": [
    "<p style=\"direction:rtl; text-align:right;\"> \n",
    "بعد هذه الخطوة ، نحن على أتم الجاهزية للإجابة عن أبرز الوجوه التعبيرية المستخدمة التي تميز مدينة ما عن المدن الأخرى وهذا ما سنراه لكل المدن.\n",
    "</p>"
   ]
  },
  {
   "cell_type": "code",
   "execution_count": 35,
   "metadata": {
    "collapsed": false,
    "scrolled": false
   },
   "outputs": [
    {
     "name": "stdout",
     "output_type": "stream",
     "text": [
      "\n",
      "Riyadh : 🍏 📞 🌲 🍻 😼 🎤 🙀 ❀ ♩ 🎁 📚 🍔 🍌 📲 🚬\n",
      "\n",
      "\n",
      "Tabuk : ★ 🤓 💟 🍑 🤣 💍 🌿 ⛅ ❌ 😑 📮 💦 😱 💢 🍳\n",
      "\n",
      "\n",
      "Jeddah : 🇺 🌟 🍀 🍼 💸 👅 💚 🍺 👶 ❋ 🌌 💢 🎉 😣 🙉\n",
      "\n",
      "\n",
      "Hail : 👪 🌙 🇮 ⚡ ❣ 🇹 🤙 🔻 ⚜ 🎬 🏹 📖 💤 🍇 🇲\n",
      "\n",
      "\n",
      "Mecca : 🕋 ❥ 🖐 ☝ 👻 ✿ 👼 ⚘ 🕺 😮 👭 💬 🙅 😻 😗\n",
      "\n",
      "\n",
      "Medina : 🏁 ⤵ 💪 🔵 🖒 🤕 🍃 💡 🇬 💨 🗓 😛 🌺 👌 💫\n",
      "\n",
      "\n",
      "Jubail : 🎧 👞 ✅ 🤛 👄 🇶 💝 👶 🌬 ❀ 🌤 🙃 👉 ⚕ 👭\n",
      "\n",
      "\n",
      "Hofuf : 👵 👰 🇧 🌥 🇭 🙍 🌴 ❃ ❁ 🍒 👑 🗝 📌 ☺ 💆\n",
      "\n",
      "\n",
      "Jazan : 😨 🌤 ✉ 🇳 🎹 ⛅ 🙅 🌱 🙇 🖖 💢 🙀 ⚘ 😹 🇮\n",
      "\n",
      "\n",
      "Al-Kharj : 🕛 😲 🤤 💝 ♪ 📝 😰 😹 ❁ ⬇ 😱 🍺 💍 💥 🗝\n",
      "\n",
      "\n",
      "Taif : 🎭 🔗 ❄ 🌨 💐 🔶 💥 ⭐ 🦋 ☔ 🌧 💀 🙁 👆 ⚽\n",
      "\n",
      "\n",
      "Qatif : 😭 🤷 🤝 🖕 🏿 😞 😂 😡 🙂 😰 🙇 ♀ 🙆 🤦 👎\n",
      "\n",
      "\n",
      "Dammam : 📱 🇰 🇼 🗣 🙌 👊 🍫 🎓 ⬇ 🍰 😀 🌱 💦 ✔ 🌼\n",
      "\n",
      "\n",
      "Abha : 🐙 🍆 🍭 🎻 📯 🇨 💖 🏾 🔞 🎵 🏆 ☔ 🚶 🍰 🌞\n",
      "\n",
      "\n",
      "Khamis Mushait : 🍥 🎀 💎 🔫 💞 💋 🌌 🙉 💥 😫 😘 😠 📲 👨 🎻\n",
      "\n",
      "\n",
      "Najran : 🇵 🇱 🎊 ✉ 😆 🇷 🎈 📮 😝 🎹 🏃 🎷 ❕ ♪ 🌴\n",
      "\n",
      "\n",
      "Buraidah : 🔝 🔁 ♠ ⚫ 📣 🔹 🌑 🇾 🌕 😙 😿 ❕ 🐥 🍁 🇪\n",
      "\n",
      "\n",
      "Yanbu : 🏳 😖 😾 💧 💩 🔑 🐒 🔪 ☻ 😈 🌈 🖒 🏹 😴 ⚽\n",
      "\n",
      "\n",
      "Khobar : 😯 ♨ 💉 ☀ ☎ 👧 🌝 🚗 😤 😥 🌈 👩 😦 🤧 🤢\n",
      "\n",
      "\n"
     ]
    }
   ],
   "source": [
    "print('')\n",
    "df_scaled = df_scaled.fillna(0)\n",
    "for city in tweets.city.unique():\n",
    "    print(city,':', ' '.join(df_scaled.loc[city].sort_values()[::-1].index[:15].tolist()))\n",
    "    print('\\n')"
   ]
  },
  {
   "cell_type": "markdown",
   "metadata": {},
   "source": [
    "<p style=\"direction:rtl; text-align:right;\">\n",
    "\n",
    "بناء على الشكل أعلاه سأذكر انطباعي بخصوص هذه الطريقة لحساب الرموز التعبيرية التي تميز كل مدينة عن أخرى. أعتقد أن هناك طرق أكثر متانة وثقة من هذه الطريقة البسيطة مثل \n",
    "<a href=\"https://en.wikipedia.org/wiki/Correspondence_analysis\">Correspondence Analysis</a> أو بناء جدول عدد الرموز أعلاه بطريقة مختلفة مثل استخدام خوارزمية \n",
    "<a href=\"https://en.wikipedia.org/wiki/Tf%E2%80%93idf\">TF-IDF</a> بدلاً من العدد.\n",
    "\n",
    "كما ترى، فهذه الطريقة أعلاه تثبت \"المتوسط\" بين المدن ليكون في الصفر ولكننا مازلنا نرى أن المدن الكبرى التي تمتلك نصيباً أكبر من التغريدات لديها نصيب الذهب من الرموز التعبيرية وذلك لوجود عدد كبير من القيم الموجبة لدى المدن الكبرى. هذا إما قد يعكس انحيازاً لعدد التغريدات، أو أن المغردين في المدن الكبرى يستخدمون الرموز التعبيرية بشكل أكبر من المغردين في باقي المدن. أميل شخصياً للتفسير اللاحق وذلك لأني أكاد أرى \"منطقة حمراء\" لكل مدينة أو مجموعة من الرموز التي تميزها عن غيرها على الرغم من قلة كمية التغريدات فيه (شاهد الشكل أعلاه). على أية حال، هذه الطريقة مازالت مفيدة لمعرفة أي الرموز هي الأكثر استخداماً من غير أن نكترث للفروقات بين الرمز الأول والثاني إن كان كبيراً أم ضئيلاً.\n",
    "\n",
    "</p>"
   ]
  },
  {
   "cell_type": "markdown",
   "metadata": {},
   "source": [
    "<p style=\"direction:rtl; font-size:25px; text-align:right; font-weight: bold;\" >\n",
    "تحليل المشاعر (Sentiment Analysis)"
   ]
  },
  {
   "cell_type": "markdown",
   "metadata": {},
   "source": [
    "<p style=\"direction:rtl; text-align:right;\">\n",
    "الآن سننتقل للسؤال التالي، وهو حول المحتوى العاطفي للرموز التعبيرية والذي يتراوح من رموز تعبيرية إيجابية (كالقلب أو الوجه الضاحك) إلى رموز تعبيرية سلبية (كالوجه الباكي أو الوجه الغاضب). قد تبدو هذه مهمة صعبة، إذا كيف نحدد \"قيمة عاطفية\" لكل وجه تعبيري؟ لحسن الحظ، هناك من سبق وقام بهذه المهمة. ففي \n",
    "<a href=\"http://journals.plos.org/plosone/article/file?id=10.1371/journal.pone.0144296&type=printable\">ورقة علمية</a>\n",
    "منشورة في مجلة PLOS One، استخدم الباحثون حوالي مليون تغريدة من أكثر من 13 لغة أوروبية وأكثر من 82 محلل ليخرجوا ببحث ممتع كان هذا المعجم التعبيري - العاطفي أبرز نتائجه. لاحظ أنه قد يكون هناك اختلافات ثقافية طفيفة بين الرموز التعبيرية في التغريدات الأوروبية (سواء بالإنجليزية أو بغيرها) إلا أني أعتقد أن هذه المسائل طفيفة عملياً إذا ما كان الغرض هو المعرفة بشكل عام وليس تصنيف كل تغريدة على حدة مثلاً.\n",
    "\n",
    "<br><br>\n",
    "سبق وأن نسخت \n",
    "<a href=\"http://kt.ijs.si/data/Emoji_sentiment_ranking/index.html\">الجدول المرفق هنا</a>\n",
    "من الورقة ليصبح في جدول مستقل قابل للقراءة والاستخدام داخل بايثون.\n",
    "\n",
    "<br><br>\n",
    "\n",
    "في هذا الجدول، نجد أن لكل رمز تعبيري \"درجة عاطفية\" تتراوح من +1 إلى -1، أو من موجب إلى سالب (فيما الصفر يعتبر محايد). سنقوم بقراءة كل تغريدة واستخراج كل الرموز التعبيرية منها، ثم حساب متوسط \"الدرجة العاطفية\" للتغريدة بناء على الرموز المستخدمة (قد يجادلني البعض في هذا التوجه، ولكن هذا هو الطريق الأبسط على أية حال).\n",
    "\n",
    "</p>"
   ]
  },
  {
   "cell_type": "code",
   "execution_count": 36,
   "metadata": {
    "collapsed": true
   },
   "outputs": [],
   "source": [
    "senti = pd.read_csv('./data/sentiment_scores.csv')"
   ]
  },
  {
   "cell_type": "code",
   "execution_count": 37,
   "metadata": {
    "collapsed": false
   },
   "outputs": [
    {
     "data": {
      "text/html": [
       "<div>\n",
       "<table border=\"1\" class=\"dataframe\">\n",
       "  <thead>\n",
       "    <tr style=\"text-align: right;\">\n",
       "      <th></th>\n",
       "      <th>Char</th>\n",
       "      <th>Image</th>\n",
       "      <th>Unicodecodepoint</th>\n",
       "      <th>Occurrences</th>\n",
       "      <th>Position</th>\n",
       "      <th>Neg</th>\n",
       "      <th>Neut</th>\n",
       "      <th>Pos</th>\n",
       "      <th>Sentiment</th>\n",
       "      <th>bar</th>\n",
       "      <th>name</th>\n",
       "      <th>block</th>\n",
       "    </tr>\n",
       "  </thead>\n",
       "  <tbody>\n",
       "    <tr>\n",
       "      <th>0</th>\n",
       "      <td>😂</td>\n",
       "      <td>😂</td>\n",
       "      <td>0x1f602</td>\n",
       "      <td>14622.0</td>\n",
       "      <td>0.805</td>\n",
       "      <td>0.247</td>\n",
       "      <td>0.285</td>\n",
       "      <td>0.468</td>\n",
       "      <td>0.221</td>\n",
       "      <td></td>\n",
       "      <td>FACE WITH TEARS OF JOY</td>\n",
       "      <td>Emoticons</td>\n",
       "    </tr>\n",
       "    <tr>\n",
       "      <th>1</th>\n",
       "      <td>❤</td>\n",
       "      <td>❤</td>\n",
       "      <td>0x2764</td>\n",
       "      <td>8050.0</td>\n",
       "      <td>0.747</td>\n",
       "      <td>0.044</td>\n",
       "      <td>0.166</td>\n",
       "      <td>0.790</td>\n",
       "      <td>0.746</td>\n",
       "      <td></td>\n",
       "      <td>HEAVY BLACK HEART</td>\n",
       "      <td>Dingbats</td>\n",
       "    </tr>\n",
       "    <tr>\n",
       "      <th>2</th>\n",
       "      <td>♥</td>\n",
       "      <td>♥</td>\n",
       "      <td>0x2665</td>\n",
       "      <td>7144.0</td>\n",
       "      <td>0.754</td>\n",
       "      <td>0.035</td>\n",
       "      <td>0.272</td>\n",
       "      <td>0.693</td>\n",
       "      <td>0.657</td>\n",
       "      <td></td>\n",
       "      <td>BLACK HEART SUIT</td>\n",
       "      <td>Miscellaneous Symbols</td>\n",
       "    </tr>\n",
       "    <tr>\n",
       "      <th>3</th>\n",
       "      <td>😍</td>\n",
       "      <td>😍</td>\n",
       "      <td>0x1f60d</td>\n",
       "      <td>6359.0</td>\n",
       "      <td>0.765</td>\n",
       "      <td>0.052</td>\n",
       "      <td>0.219</td>\n",
       "      <td>0.729</td>\n",
       "      <td>0.678</td>\n",
       "      <td></td>\n",
       "      <td>SMILING FACE WITH HEART-SHAPED EYES</td>\n",
       "      <td>Emoticons</td>\n",
       "    </tr>\n",
       "    <tr>\n",
       "      <th>4</th>\n",
       "      <td>😭</td>\n",
       "      <td>😭</td>\n",
       "      <td>0x1f62d</td>\n",
       "      <td>5526.0</td>\n",
       "      <td>0.803</td>\n",
       "      <td>0.436</td>\n",
       "      <td>0.220</td>\n",
       "      <td>0.343</td>\n",
       "      <td>-0.093</td>\n",
       "      <td></td>\n",
       "      <td>LOUDLY CRYING FACE</td>\n",
       "      <td>Emoticons</td>\n",
       "    </tr>\n",
       "  </tbody>\n",
       "</table>\n",
       "</div>"
      ],
      "text/plain": [
       "  Char Image Unicodecodepoint  Occurrences  Position    Neg   Neut    Pos  \\\n",
       "0    😂     😂          0x1f602      14622.0     0.805  0.247  0.285  0.468   \n",
       "1    ❤     ❤           0x2764       8050.0     0.747  0.044  0.166  0.790   \n",
       "2    ♥     ♥           0x2665       7144.0     0.754  0.035  0.272  0.693   \n",
       "3    😍     😍          0x1f60d       6359.0     0.765  0.052  0.219  0.729   \n",
       "4    😭     😭          0x1f62d       5526.0     0.803  0.436  0.220  0.343   \n",
       "\n",
       "   Sentiment   bar                                 name                  block  \n",
       "0      0.221                     FACE WITH TEARS OF JOY              Emoticons  \n",
       "1      0.746                          HEAVY BLACK HEART               Dingbats  \n",
       "2      0.657                           BLACK HEART SUIT  Miscellaneous Symbols  \n",
       "3      0.678        SMILING FACE WITH HEART-SHAPED EYES              Emoticons  \n",
       "4     -0.093                         LOUDLY CRYING FACE              Emoticons  "
      ]
     },
     "execution_count": 37,
     "metadata": {},
     "output_type": "execute_result"
    }
   ],
   "source": [
    "senti.head()"
   ]
  },
  {
   "cell_type": "code",
   "execution_count": 38,
   "metadata": {
    "collapsed": false
   },
   "outputs": [],
   "source": [
    "tweets['score'] = tweets.text.apply(lambda x: senti.loc[[emoji in x for emoji in senti['Char']]]['Sentiment'].mean())"
   ]
  },
  {
   "cell_type": "markdown",
   "metadata": {},
   "source": [
    "<p style=\"direction:rtl; text-align:right;\">\n",
    "الآن، بعد أن صار لكل تغريدة \"درجة عاطفية\"، نستطيع أن نجري حساباً بسيطة لمعرفة ترتيب المدن في مدى إيجابية/سلبية الرموز التعبيرية المستخدمة فيها. كما نلاحظ في الشكل القادم، مدينة حائل تحتل الأولى في استخدام الرموز الإيجابية فيما مدينة القطيف تعتبر الأخيرة.\n",
    "</p>"
   ]
  },
  {
   "cell_type": "code",
   "execution_count": 39,
   "metadata": {
    "collapsed": false
   },
   "outputs": [
    {
     "data": {
      "text/plain": [
       "<matplotlib.axes._subplots.AxesSubplot at 0x11be06be0>"
      ]
     },
     "execution_count": 39,
     "metadata": {},
     "output_type": "execute_result"
    },
    {
     "data": {
      "image/png": "[encoded data removed]",
      "text/plain": [
       "<matplotlib.figure.Figure at 0x11bc636a0>"
      ]
     },
     "metadata": {},
     "output_type": "display_data"
    }
   ],
   "source": [
    "tweets.groupby(['city']).agg({'score':np.mean}).sort_values(by='score').plot(kind='bar', figsize=(15,5))"
   ]
  },
  {
   "cell_type": "markdown",
   "metadata": {},
   "source": [
    "<p style=\"direction:rtl; text-align:right;\">\n",
    "وأخيراً، سنقوم باستخدام \"الوقت\" لمعرفة اختلاف أنماط استخدام الرموز الإيجابية أو السلبية. الشكل التالي يتكون من عدة أشكال مصغرة، شكل لكل مدينة. على محور السينات لدينا ساعات اليوم (من الساعة 12 صباحا في أقصى اليسار إلى منتصف الليل  يمينا)، فيما على محور الصادات لدينا ترمومتر المشاعر في التغريدات المستخرجة من هذه المدينة.\n",
    "\n",
    "<br><br>\n",
    "قارن مثلاً جدة والرياض ( والتي تملك مزاجاً سيئاً في فترة الظهرية) وغيرها من المدن. أغلب المدن تزيد القيمة فيها عن 0.3 وهي ذات القيمة في (الشكل 4) من الورقة سابقة الذكر حينما حسبوا متوسط قيمة المشاعر لكل التغريدات. مما يعكس بشكل ما أن استخدام الرموز الإيجابية يغلب على استخدام الرموز السلبية.. فيما تبقى حائل مدينة \"الروقان\".\n",
    "\n",
    "</p>"
   ]
  },
  {
   "cell_type": "code",
   "execution_count": 40,
   "metadata": {
    "collapsed": false
   },
   "outputs": [],
   "source": [
    "tweets.created_at = pd.to_datetime(tweets.created_at)"
   ]
  },
  {
   "cell_type": "code",
   "execution_count": 41,
   "metadata": {
    "collapsed": false
   },
   "outputs": [
    {
     "data": {
      "image/png": "[encoded data removed]",
      "text/plain": [
       "<matplotlib.figure.Figure at 0x14d8391d0>"
      ]
     },
     "metadata": {},
     "output_type": "display_data"
    }
   ],
   "source": [
    "pivoted = tweets.pivot_table('score', \n",
    "                              index=tweets.created_at.dt.hour, \n",
    "                              columns=tweets.city, \n",
    "                              aggfunc=np.mean)\n",
    "pivoted.index.name = 'Hour'\n",
    "plo = pivoted.plot(subplots=True, layout=(-1, 4), sharex=False, sharey=True, figsize=(18, 20))"
   ]
  },
  {
   "cell_type": "markdown",
   "metadata": {},
   "source": [
    "<p style=\"direction:rtl; font-size:25px; text-align:right; font-weight: bold;\" >\n",
    "الختام.."
   ]
  },
  {
   "cell_type": "markdown",
   "metadata": {
    "collapsed": true
   },
   "source": [
    "<p style=\"direction:rtl; text-align:right;\">\n",
    "\n",
    "لا أود الإطالة كما لا أود مناقشة النتائج بشكل مفصل. بل أحب دائماً أن أترك خيوط تفسير مفتوحة لمن أراد أن يتعمق. بالطبع لا أريد لأي أحد أن يتعمق في تفسير هذه النتائج نظراً للكمية المحدودة (والمنحازة إلى حد كبير) من التغريدات. هذا لا يجعلها غير مفيدة بل هي نقطة بداية لمن أحب التعمق.\n",
    "\n",
    "<br><br>\n",
    "كان الهدف من هذه التدوينة التحليلية هي إشباع فضولي العلمي والنقدي من خلال العمل على تحليل البيانات. ولأني أعرف أن الكثير يعتيرهم ذات الفضول ولديهم رغبة كبيرة لإجراء تحليلات مشابهة فقد قررت أولاً استخدام Jupyter Notebooks لكتابة التدوينة، ثم مشاركة الملفات الأولية لتصبح الفرصة متاحة لدى الجميع لإجراء أي تحليلات مشابهة (من دون الحاجة لإبلاغي أو الاستئذان مني في استخدام البيانات).\n",
    "\n",
    "<br><br>\n",
    "أتمنى أن تكون قد راقت لكم هذه التدوينة وأشبعت فضولكم كذلك. وربما دفعت بك إلى التفكير في طرق إبداعية لاستخدام البيانات العامة لفهم المجتمع الذي نعيش فيه بشكل أكبر وأدق. إن كانت لديك أي فكرة من هذا القبيل فأرجو التواصل معي لمشاركة المقترحات والأفكار.\n",
    "\n",
    "<br><br>\n",
    "\n",
    "إلى أن نراكم في المرة القادمة.. \n",
    "<a href=\"https://twitter.com/fahd09\">فهد</a>\n",
    "\n",
    "</p>"
   ]
  }
 ],
 "metadata": {
  "kernelspec": {
   "display_name": "Python 3",
   "language": "python",
   "name": "python3"
  },
  "language_info": {
   "codemirror_mode": {
    "name": "ipython",
    "version": 3
   },
   "file_extension": ".py",
   "mimetype": "text/x-python",
   "name": "python",
   "nbconvert_exporter": "python",
   "pygments_lexer": "ipython3",
   "version": "3.6.0"
  }
 },
 "nbformat": 4,
 "nbformat_minor": 0
}
